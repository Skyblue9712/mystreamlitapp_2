{
 "cells": [
  {
   "cell_type": "code",
   "execution_count": 190,
   "metadata": {},
   "outputs": [],
   "source": [
    "import pandas as pd\n",
    "import numpy as np\n",
    "import plotly.express as plt\n",
    "import matplotlib.pyplot as plt\n",
    "import seaborn as sns"
   ]
  },
  {
   "cell_type": "code",
   "execution_count": 191,
   "metadata": {},
   "outputs": [
    {
     "ename": "TypeError",
     "evalue": "read_csv() got an unexpected keyword argument 'parse_'",
     "output_type": "error",
     "traceback": [
      "\u001b[1;31m---------------------------------------------------------------------------\u001b[0m",
      "\u001b[1;31mTypeError\u001b[0m                                 Traceback (most recent call last)",
      "\u001b[1;32mc:\\Users\\ag923\\Downloads\\mystreamlitapp\\analysis.ipynb Cell 2\u001b[0m line \u001b[0;36m2\n\u001b[0;32m      <a href='vscode-notebook-cell:/c%3A/Users/ag923/Downloads/mystreamlitapp/analysis.ipynb#W1sZmlsZQ%3D%3D?line=0'>1</a>\u001b[0m path \u001b[39m=\u001b[39m \u001b[39m'\u001b[39m\u001b[39mdata/Top_rated_movies1.csv\u001b[39m\u001b[39m'\u001b[39m\n\u001b[1;32m----> <a href='vscode-notebook-cell:/c%3A/Users/ag923/Downloads/mystreamlitapp/analysis.ipynb#W1sZmlsZQ%3D%3D?line=1'>2</a>\u001b[0m df\u001b[39m=\u001b[39mpd\u001b[39m.\u001b[39;49mread_csv(path, parse_\u001b[39m=\u001b[39;49m[\u001b[39m'\u001b[39;49m\u001b[39mrelease_date\u001b[39;49m\u001b[39m'\u001b[39;49m])\n\u001b[0;32m      <a href='vscode-notebook-cell:/c%3A/Users/ag923/Downloads/mystreamlitapp/analysis.ipynb#W1sZmlsZQ%3D%3D?line=2'>3</a>\u001b[0m df\u001b[39m.\u001b[39mhead(\u001b[39mNone\u001b[39;00m)\n",
      "\u001b[1;31mTypeError\u001b[0m: read_csv() got an unexpected keyword argument 'parse_'"
     ]
    }
   ],
   "source": [
    "path = 'data/Top_rated_movies1.csv'\n",
    "df=pd.read_csv(path, parse_=['release_date'])\n",
    "df.head(None)"
   ]
  },
  {
   "cell_type": "code",
   "execution_count": null,
   "metadata": {},
   "outputs": [],
   "source": [
    "df.drop(columns='id',inplace=True)"
   ]
  },
  {
   "cell_type": "code",
   "execution_count": null,
   "metadata": {},
   "outputs": [
    {
     "data": {
      "text/plain": [
       "52986"
      ]
     },
     "execution_count": 5,
     "metadata": {},
     "output_type": "execute_result"
    }
   ],
   "source": [
    "df.title.value_counts()# it give the number of unique elements\n",
    "df.size"
   ]
  },
  {
   "cell_type": "code",
   "execution_count": null,
   "metadata": {},
   "outputs": [
    {
     "data": {
      "text/html": [
       "<div>\n",
       "<style scoped>\n",
       "    .dataframe tbody tr th:only-of-type {\n",
       "        vertical-align: middle;\n",
       "    }\n",
       "\n",
       "    .dataframe tbody tr th {\n",
       "        vertical-align: top;\n",
       "    }\n",
       "\n",
       "    .dataframe thead th {\n",
       "        text-align: right;\n",
       "    }\n",
       "</style>\n",
       "<table border=\"1\" class=\"dataframe\">\n",
       "  <thead>\n",
       "    <tr style=\"text-align: right;\">\n",
       "      <th></th>\n",
       "      <th>title</th>\n",
       "      <th>overview</th>\n",
       "      <th>popularity</th>\n",
       "      <th>release_date</th>\n",
       "      <th>vote_average</th>\n",
       "      <th>vote_count</th>\n",
       "    </tr>\n",
       "  </thead>\n",
       "  <tbody>\n",
       "    <tr>\n",
       "      <th>119</th>\n",
       "      <td>Srimulat: Hidup Memang Komedi</td>\n",
       "      <td>After Gepeng's indiscipline, Srimulat's life i...</td>\n",
       "      <td>11.038</td>\n",
       "      <td>2023-11-23</td>\n",
       "      <td>4.000</td>\n",
       "      <td>1</td>\n",
       "    </tr>\n",
       "    <tr>\n",
       "      <th>2179</th>\n",
       "      <td>The Hunger Games: The Ballad of Songbirds &amp; Sn...</td>\n",
       "      <td>64 years before he becomes the tyrannical pres...</td>\n",
       "      <td>595.362</td>\n",
       "      <td>2023-11-15</td>\n",
       "      <td>7.200</td>\n",
       "      <td>401</td>\n",
       "    </tr>\n",
       "    <tr>\n",
       "      <th>4945</th>\n",
       "      <td>The Marvels</td>\n",
       "      <td>Carol Danvers, aka Captain Marvel, has reclaim...</td>\n",
       "      <td>480.065</td>\n",
       "      <td>2023-11-08</td>\n",
       "      <td>6.571</td>\n",
       "      <td>539</td>\n",
       "    </tr>\n",
       "  </tbody>\n",
       "</table>\n",
       "</div>"
      ],
      "text/plain": [
       "                                                  title  \\\n",
       "119                       Srimulat: Hidup Memang Komedi   \n",
       "2179  The Hunger Games: The Ballad of Songbirds & Sn...   \n",
       "4945                                        The Marvels   \n",
       "\n",
       "                                               overview  popularity  \\\n",
       "119   After Gepeng's indiscipline, Srimulat's life i...      11.038   \n",
       "2179  64 years before he becomes the tyrannical pres...     595.362   \n",
       "4945  Carol Danvers, aka Captain Marvel, has reclaim...     480.065   \n",
       "\n",
       "     release_date  vote_average  vote_count  \n",
       "119    2023-11-23         4.000           1  \n",
       "2179   2023-11-15         7.200         401  \n",
       "4945   2023-11-08         6.571         539  "
      ]
     },
     "execution_count": 6,
     "metadata": {},
     "output_type": "execute_result"
    }
   ],
   "source": [
    "df.sort_values(by='release_date', inplace=True, ascending=False)\n",
    "df.head(3)"
   ]
  },
  {
   "cell_type": "code",
   "execution_count": null,
   "metadata": {},
   "outputs": [
    {
     "data": {
      "text/html": [
       "<div>\n",
       "<style scoped>\n",
       "    .dataframe tbody tr th:only-of-type {\n",
       "        vertical-align: middle;\n",
       "    }\n",
       "\n",
       "    .dataframe tbody tr th {\n",
       "        vertical-align: top;\n",
       "    }\n",
       "\n",
       "    .dataframe thead th {\n",
       "        text-align: right;\n",
       "    }\n",
       "</style>\n",
       "<table border=\"1\" class=\"dataframe\">\n",
       "  <thead>\n",
       "    <tr style=\"text-align: right;\">\n",
       "      <th></th>\n",
       "      <th>title</th>\n",
       "      <th>overview</th>\n",
       "      <th>popularity</th>\n",
       "      <th>release_date</th>\n",
       "      <th>vote_average</th>\n",
       "      <th>vote_count</th>\n",
       "    </tr>\n",
       "  </thead>\n",
       "  <tbody>\n",
       "    <tr>\n",
       "      <th>119</th>\n",
       "      <td>Srimulat: Hidup Memang Komedi</td>\n",
       "      <td>After Gepeng's indiscipline, Srimulat's life i...</td>\n",
       "      <td>11.038</td>\n",
       "      <td>2023-11-23</td>\n",
       "      <td>4.000</td>\n",
       "      <td>1</td>\n",
       "    </tr>\n",
       "    <tr>\n",
       "      <th>2179</th>\n",
       "      <td>The Hunger Games: The Ballad of Songbirds &amp; Sn...</td>\n",
       "      <td>64 years before he becomes the tyrannical pres...</td>\n",
       "      <td>595.362</td>\n",
       "      <td>2023-11-15</td>\n",
       "      <td>7.200</td>\n",
       "      <td>401</td>\n",
       "    </tr>\n",
       "    <tr>\n",
       "      <th>4945</th>\n",
       "      <td>The Marvels</td>\n",
       "      <td>Carol Danvers, aka Captain Marvel, has reclaim...</td>\n",
       "      <td>480.065</td>\n",
       "      <td>2023-11-08</td>\n",
       "      <td>6.571</td>\n",
       "      <td>539</td>\n",
       "    </tr>\n",
       "    <tr>\n",
       "      <th>552</th>\n",
       "      <td>Five Nights at Freddy's</td>\n",
       "      <td>Recently fired and desperate for work, a troub...</td>\n",
       "      <td>1252.998</td>\n",
       "      <td>2023-10-25</td>\n",
       "      <td>7.888</td>\n",
       "      <td>2516</td>\n",
       "    </tr>\n",
       "    <tr>\n",
       "      <th>4512</th>\n",
       "      <td>The Killer</td>\n",
       "      <td>After a fateful near-miss, an assassin battles...</td>\n",
       "      <td>258.899</td>\n",
       "      <td>2023-10-25</td>\n",
       "      <td>6.652</td>\n",
       "      <td>943</td>\n",
       "    </tr>\n",
       "  </tbody>\n",
       "</table>\n",
       "</div>"
      ],
      "text/plain": [
       "                                                  title  \\\n",
       "119                       Srimulat: Hidup Memang Komedi   \n",
       "2179  The Hunger Games: The Ballad of Songbirds & Sn...   \n",
       "4945                                        The Marvels   \n",
       "552                             Five Nights at Freddy's   \n",
       "4512                                         The Killer   \n",
       "\n",
       "                                               overview  popularity  \\\n",
       "119   After Gepeng's indiscipline, Srimulat's life i...      11.038   \n",
       "2179  64 years before he becomes the tyrannical pres...     595.362   \n",
       "4945  Carol Danvers, aka Captain Marvel, has reclaim...     480.065   \n",
       "552   Recently fired and desperate for work, a troub...    1252.998   \n",
       "4512  After a fateful near-miss, an assassin battles...     258.899   \n",
       "\n",
       "     release_date  vote_average  vote_count  \n",
       "119    2023-11-23         4.000           1  \n",
       "2179   2023-11-15         7.200         401  \n",
       "4945   2023-11-08         6.571         539  \n",
       "552    2023-10-25         7.888        2516  \n",
       "4512   2023-10-25         6.652         943  "
      ]
     },
     "execution_count": 7,
     "metadata": {},
     "output_type": "execute_result"
    }
   ],
   "source": [
    "latest_data=df[df['release_date'].between('2000' , '2024')]\n",
    "latest_data.head()"
   ]
  },
  {
   "cell_type": "code",
   "execution_count": null,
   "metadata": {},
   "outputs": [
    {
     "data": {
      "text/plain": [
       "Text(0.5, 1.0, 'Popular movie year')"
      ]
     },
     "execution_count": 8,
     "metadata": {},
     "output_type": "execute_result"
    },
    {
     "data": {
      "image/png": "[encoded data removed]",
      "text/plain": [
       "<Figure size 640x480 with 1 Axes>"
      ]
     },
     "metadata": {},
     "output_type": "display_data"
    }
   ],
   "source": [
    "dropOverview=latest_data.drop('overview',axis=1)\n",
    "dropOverview.head(None)\n",
    "plt.plot(dropOverview['release_date'],dropOverview['popularity'])\n",
    "plt.xlabel('Year')\n",
    "plt.ylabel('popularity')\n",
    "plt.title('Popular movie year')\n",
    "\n"
   ]
  },
  {
   "cell_type": "code",
   "execution_count": null,
   "metadata": {},
   "outputs": [
    {
     "ename": "KeyError",
     "evalue": "'mo'",
     "output_type": "error",
     "traceback": [
      "\u001b[1;31m---------------------------------------------------------------------------\u001b[0m",
      "\u001b[1;31mKeyError\u001b[0m                                  Traceback (most recent call last)",
      "File \u001b[1;32mc:\\Users\\ag923\\miniconda3\\Lib\\site-packages\\pandas\\core\\indexes\\base.py:3790\u001b[0m, in \u001b[0;36mIndex.get_loc\u001b[1;34m(self, key)\u001b[0m\n\u001b[0;32m   3789\u001b[0m \u001b[39mtry\u001b[39;00m:\n\u001b[1;32m-> 3790\u001b[0m     \u001b[39mreturn\u001b[39;00m \u001b[39mself\u001b[39;49m\u001b[39m.\u001b[39;49m_engine\u001b[39m.\u001b[39;49mget_loc(casted_key)\n\u001b[0;32m   3791\u001b[0m \u001b[39mexcept\u001b[39;00m \u001b[39mKeyError\u001b[39;00m \u001b[39mas\u001b[39;00m err:\n",
      "File \u001b[1;32mindex.pyx:152\u001b[0m, in \u001b[0;36mpandas._libs.index.IndexEngine.get_loc\u001b[1;34m()\u001b[0m\n",
      "File \u001b[1;32mindex.pyx:181\u001b[0m, in \u001b[0;36mpandas._libs.index.IndexEngine.get_loc\u001b[1;34m()\u001b[0m\n",
      "File \u001b[1;32mpandas\\_libs\\hashtable_class_helper.pxi:7080\u001b[0m, in \u001b[0;36mpandas._libs.hashtable.PyObjectHashTable.get_item\u001b[1;34m()\u001b[0m\n",
      "File \u001b[1;32mpandas\\_libs\\hashtable_class_helper.pxi:7088\u001b[0m, in \u001b[0;36mpandas._libs.hashtable.PyObjectHashTable.get_item\u001b[1;34m()\u001b[0m\n",
      "\u001b[1;31mKeyError\u001b[0m: 'mo'",
      "\nThe above exception was the direct cause of the following exception:\n",
      "\u001b[1;31mKeyError\u001b[0m                                  Traceback (most recent call last)",
      "\u001b[1;32mc:\\Users\\ag923\\Downloads\\mystreamlitapp\\analysis.ipynb Cell 8\u001b[0m line \u001b[0;36m3\n\u001b[0;32m      <a href='vscode-notebook-cell:/c%3A/Users/ag923/Downloads/mystreamlitapp/analysis.ipynb#X10sZmlsZQ%3D%3D?line=0'>1</a>\u001b[0m dropOverview\u001b[39m=\u001b[39mlatest_data\u001b[39m.\u001b[39mdrop(\u001b[39m'\u001b[39m\u001b[39moverview\u001b[39m\u001b[39m'\u001b[39m,axis\u001b[39m=\u001b[39m\u001b[39m1\u001b[39m)\n\u001b[0;32m      <a href='vscode-notebook-cell:/c%3A/Users/ag923/Downloads/mystreamlitapp/analysis.ipynb#X10sZmlsZQ%3D%3D?line=1'>2</a>\u001b[0m dropOverview\u001b[39m.\u001b[39mhead(\u001b[39mNone\u001b[39;00m)\n\u001b[1;32m----> <a href='vscode-notebook-cell:/c%3A/Users/ag923/Downloads/mystreamlitapp/analysis.ipynb#X10sZmlsZQ%3D%3D?line=2'>3</a>\u001b[0m plt\u001b[39m.\u001b[39mplot(dropOverview[\u001b[39m'\u001b[39;49m\u001b[39mmo\u001b[39;49m\u001b[39m'\u001b[39;49m],dropOverview[\u001b[39m'\u001b[39m\u001b[39mpopularity\u001b[39m\u001b[39m'\u001b[39m])\n\u001b[0;32m      <a href='vscode-notebook-cell:/c%3A/Users/ag923/Downloads/mystreamlitapp/analysis.ipynb#X10sZmlsZQ%3D%3D?line=3'>4</a>\u001b[0m plt\u001b[39m.\u001b[39mxlabel(\u001b[39m'\u001b[39m\u001b[39mYear\u001b[39m\u001b[39m'\u001b[39m)\n\u001b[0;32m      <a href='vscode-notebook-cell:/c%3A/Users/ag923/Downloads/mystreamlitapp/analysis.ipynb#X10sZmlsZQ%3D%3D?line=4'>5</a>\u001b[0m plt\u001b[39m.\u001b[39mylabel(\u001b[39m'\u001b[39m\u001b[39mpopularity\u001b[39m\u001b[39m'\u001b[39m)\n",
      "File \u001b[1;32mc:\\Users\\ag923\\miniconda3\\Lib\\site-packages\\pandas\\core\\frame.py:3893\u001b[0m, in \u001b[0;36mDataFrame.__getitem__\u001b[1;34m(self, key)\u001b[0m\n\u001b[0;32m   3891\u001b[0m \u001b[39mif\u001b[39;00m \u001b[39mself\u001b[39m\u001b[39m.\u001b[39mcolumns\u001b[39m.\u001b[39mnlevels \u001b[39m>\u001b[39m \u001b[39m1\u001b[39m:\n\u001b[0;32m   3892\u001b[0m     \u001b[39mreturn\u001b[39;00m \u001b[39mself\u001b[39m\u001b[39m.\u001b[39m_getitem_multilevel(key)\n\u001b[1;32m-> 3893\u001b[0m indexer \u001b[39m=\u001b[39m \u001b[39mself\u001b[39;49m\u001b[39m.\u001b[39;49mcolumns\u001b[39m.\u001b[39;49mget_loc(key)\n\u001b[0;32m   3894\u001b[0m \u001b[39mif\u001b[39;00m is_integer(indexer):\n\u001b[0;32m   3895\u001b[0m     indexer \u001b[39m=\u001b[39m [indexer]\n",
      "File \u001b[1;32mc:\\Users\\ag923\\miniconda3\\Lib\\site-packages\\pandas\\core\\indexes\\base.py:3797\u001b[0m, in \u001b[0;36mIndex.get_loc\u001b[1;34m(self, key)\u001b[0m\n\u001b[0;32m   3792\u001b[0m     \u001b[39mif\u001b[39;00m \u001b[39misinstance\u001b[39m(casted_key, \u001b[39mslice\u001b[39m) \u001b[39mor\u001b[39;00m (\n\u001b[0;32m   3793\u001b[0m         \u001b[39misinstance\u001b[39m(casted_key, abc\u001b[39m.\u001b[39mIterable)\n\u001b[0;32m   3794\u001b[0m         \u001b[39mand\u001b[39;00m \u001b[39many\u001b[39m(\u001b[39misinstance\u001b[39m(x, \u001b[39mslice\u001b[39m) \u001b[39mfor\u001b[39;00m x \u001b[39min\u001b[39;00m casted_key)\n\u001b[0;32m   3795\u001b[0m     ):\n\u001b[0;32m   3796\u001b[0m         \u001b[39mraise\u001b[39;00m InvalidIndexError(key)\n\u001b[1;32m-> 3797\u001b[0m     \u001b[39mraise\u001b[39;00m \u001b[39mKeyError\u001b[39;00m(key) \u001b[39mfrom\u001b[39;00m \u001b[39merr\u001b[39;00m\n\u001b[0;32m   3798\u001b[0m \u001b[39mexcept\u001b[39;00m \u001b[39mTypeError\u001b[39;00m:\n\u001b[0;32m   3799\u001b[0m     \u001b[39m# If we have a listlike key, _check_indexing_error will raise\u001b[39;00m\n\u001b[0;32m   3800\u001b[0m     \u001b[39m#  InvalidIndexError. Otherwise we fall through and re-raise\u001b[39;00m\n\u001b[0;32m   3801\u001b[0m     \u001b[39m#  the TypeError.\u001b[39;00m\n\u001b[0;32m   3802\u001b[0m     \u001b[39mself\u001b[39m\u001b[39m.\u001b[39m_check_indexing_error(key)\n",
      "\u001b[1;31mKeyError\u001b[0m: 'mo'"
     ]
    }
   ],
   "source": [
    "dropOverview=latest_data.drop('overview',axis=1)\n",
    "dropOverview.head(None)\n",
    "plt.plot(dropOverview['mo'],dropOverview['popularity'])\n",
    "plt.xlabel('Year')\n",
    "plt.ylabel('popularity')\n",
    "plt.title('Popular movie year')"
   ]
  },
  {
   "cell_type": "code",
   "execution_count": null,
   "metadata": {},
   "outputs": [],
   "source": [
    "df=pd.read_csv(r\"data/2023_population.csv\")"
   ]
  },
  {
   "cell_type": "code",
   "execution_count": null,
   "metadata": {},
   "outputs": [
    {
     "data": {
      "text/plain": [
       "Index(['iso_code', 'country', '2023_last_updated', '2022_population',\n",
       "       'area_sq_km', 'land_area_sq_km', 'density_/sq_km', 'growth_rate',\n",
       "       'world_%', 'rank', 'un_member'],\n",
       "      dtype='object')"
      ]
     },
     "execution_count": 148,
     "metadata": {},
     "output_type": "execute_result"
    }
   ],
   "source": [
    "df.columns"
   ]
  },
  {
   "cell_type": "markdown",
   "metadata": {},
   "source": [
    "df['2023_last_updated']=pd.to_numeric(df['2023_last_updated'],er'coerce')"
   ]
  },
  {
   "cell_type": "code",
   "execution_count": null,
   "metadata": {},
   "outputs": [
    {
     "data": {
      "text/plain": [
       "0      1,434,177,179\n",
       "1      1,425,521,473\n",
       "2        340,767,182\n",
       "3        278,498,390\n",
       "4        242,468,575\n",
       "           ...      \n",
       "211              MSR\n",
       "212              FLK\n",
       "213            1,935\n",
       "214              TKL\n",
       "215              VAT\n",
       "Name: 2023_last_updated, Length: 216, dtype: object"
      ]
     },
     "execution_count": 149,
     "metadata": {},
     "output_type": "execute_result"
    }
   ],
   "source": [
    "df['2023_last_updated']"
   ]
  },
  {
   "cell_type": "code",
   "execution_count": null,
   "metadata": {},
   "outputs": [
    {
     "data": {
      "text/plain": [
       "1456"
      ]
     },
     "execution_count": 84,
     "metadata": {},
     "output_type": "execute_result"
    }
   ],
   "source": [
    "name='1,456'\n",
    "name=name.replace(',','')\n",
    "name=int(name)\n",
    "name"
   ]
  },
  {
   "cell_type": "code",
   "execution_count": 192,
   "metadata": {},
   "outputs": [
    {
     "data": {
      "text/plain": [
       "0    1.434177e+09\n",
       "1    1.425521e+09\n",
       "2    3.407672e+08\n",
       "3    2.784984e+08\n",
       "4    2.424686e+08\n",
       "Name: 2023_last_updated, dtype: float64"
      ]
     },
     "execution_count": 192,
     "metadata": {},
     "output_type": "execute_result"
    }
   ],
   "source": [
    "df['2023_last_updated'] = pd.to_numeric(df['2023_last_updated'].str.replace(',', '') , errors='coerce')\n",
    "df['2023_last_updated'].head()"
   ]
  },
  {
   "cell_type": "code",
   "execution_count": 193,
   "metadata": {},
   "outputs": [
    {
     "name": "stdout",
     "output_type": "stream",
     "text": [
      "    iso_code        country  2023_last_updated 2022_population area_sq_km  \\\n",
      "0        IND          India       1.434177e+09   1,417,173,173       3.3M   \n",
      "1        CHN          China       1.425521e+09   1,425,887,337       9.7M   \n",
      "2        USA  United States       3.407672e+08     338,289,857       9.4M   \n",
      "3        IDN      Indonesia       2.784984e+08     275,501,339       1.9M   \n",
      "4        PAK       Pakistan       2.424686e+08     235,824,862     881.9K   \n",
      "..       ...            ...                ...             ...        ...   \n",
      "206      COK   Cook Islands       1.704400e+04          17,011        240   \n",
      "207      AIA       Anguilla       1.589900e+04          15,857         91   \n",
      "208      NRU          Nauru       1.278000e+04          12,668         21   \n",
      "209      TUV         Tuvalu       1.139600e+04          11,312         26   \n",
      "213      NIU           Niue       1.935000e+03           1,934        261   \n",
      "\n",
      "     land_area_sq_km density_/sq_km growth_rate world_%  rank un_member  \n",
      "0          3000000.0            481       0.81%  17.85%     1       IND  \n",
      "1          9400000.0            151      -0.02%  17.81%     2       CHN  \n",
      "2          9100000.0             37        0.5%   4.25%     3       USA  \n",
      "3          1900000.0            148       0.74%   3.47%     4       IDN  \n",
      "4           770900.0            312       1.98%      3%     5       PAK  \n",
      "..               ...            ...         ...     ...   ...       ...  \n",
      "206            240.0             71       0.19%           223       COK  \n",
      "207             91.0            175       0.26%           224       AIA  \n",
      "208             20.0            639       0.88%           225       NRU  \n",
      "209             30.0            380       0.74%           227       TUV  \n",
      "213            261.0              7       0.05%     NIU   232       NIU  \n",
      "\n",
      "[209 rows x 11 columns]\n"
     ]
    }
   ],
   "source": [
    "print(df[~df['2023_last_updated'].isnull()])\n",
    "df.dropna(subset=['2023_last_updated'], inplace=True)"
   ]
  },
  {
   "cell_type": "code",
   "execution_count": 194,
   "metadata": {},
   "outputs": [
    {
     "data": {
      "text/plain": [
       "0      17.85%\n",
       "1      17.81%\n",
       "2       4.25%\n",
       "3       3.47%\n",
       "4          3%\n",
       "        ...  \n",
       "206          \n",
       "207          \n",
       "208          \n",
       "209          \n",
       "213       NIU\n",
       "Name: world_%, Length: 209, dtype: object"
      ]
     },
     "execution_count": 194,
     "metadata": {},
     "output_type": "execute_result"
    }
   ],
   "source": [
    "df=df[~df['world_%'].isnull()]\n",
    "df['world_%']\n"
   ]
  },
  {
   "cell_type": "code",
   "execution_count": 195,
   "metadata": {},
   "outputs": [
    {
     "data": {
      "text/plain": [
       "0    17.85\n",
       "1    17.81\n",
       "2     4.25\n",
       "3     3.47\n",
       "4     3.00\n",
       "Name: world_%, dtype: float64"
      ]
     },
     "execution_count": 195,
     "metadata": {},
     "output_type": "execute_result"
    }
   ],
   "source": [
    "df['world_%'] = pd.to_numeric(df['world_%'].str.replace('%', '') , errors='coerce')\n",
    "df['world_%'].head()"
   ]
  },
  {
   "cell_type": "code",
   "execution_count": null,
   "metadata": {},
   "outputs": [
    {
     "data": {
      "text/plain": [
       "str"
      ]
     },
     "execution_count": 174,
     "metadata": {},
     "output_type": "execute_result"
    }
   ],
   "source": [
    "type(df['land_area_sq_km'][5])"
   ]
  },
  {
   "cell_type": "code",
   "execution_count": null,
   "metadata": {},
   "outputs": [
    {
     "data": {
      "text/plain": [
       "array(['3M', '9.4M', '9.1M', '1.9M', '770.9K', '910.8K', '8.4M', '130.2K',\n",
       "       '16.4M', '1.1M', '364.5K', '298.2K', '1M', '313.4K', '1.6M',\n",
       "       '783.6K', '349.4K', '510.9K', '241.9K', '885.8K', '547.6K', '1.2M',\n",
       "       '295.7K', '569.1K', '652.7K', '97.6K', '200.5K', '499.6K', '2.7M',\n",
       "       '2.4M', '434.1K', '652.2K', '306.1K', '9M', '446.3K', '2.1M',\n",
       "       '579.4K', '440.6K', '528K', '1.3M', '328.6K', '227.5K', '786.4K',\n",
       "       '143.3K', '581.8K', '318K', '882K', '472.7K', '7.7M', '120.4K',\n",
       "       '36.2K', '273.6K', '183.6K', '61.9K', '94.3K', '743.4K', '230.1K',\n",
       "       '743.5K', '248.4K', '627.3K', '107.2K', '192.5K', '33.7K',\n",
       "       '176.5K', '386.9K', '245.7K', '24.7K', '112.8K', '25.7K', '155.4K',\n",
       "       '27.6K', '30.3K', '88.8K', '48.3K', '103.8K', '631.9K', '407.3K',\n",
       "       '111.9K', '77.2K', '82.6K', '128.9K', '452.9K', '91.6K', '91.3K',\n",
       "       '138.8K', '71K', '203K', '21.6K', '54.4K', '82.5K', '39.5K',\n",
       "       '72.2K', '230.8K', '1.1K', '87.5K', '120.3K', '1.8M', '397.3K',\n",
       "       '191.8K', '108.6K', '469.9K', '20.7K', '718', '40K', '49K', '623K',\n",
       "       '303.9K', '364.3K', '96.3K', '6K', '10.2K', '263.3K', '51.1K',\n",
       "       '68.9K', '309.5K', '74.2K', '17.8K', '56K', '121K', '69.5K',\n",
       "       '32.9K', '175K', '8.9K', '27.4K', '10.8K', '28.5K', '10.1K',\n",
       "       '62.6K', '11.5K', '566.7K', '823.3K', '257.7K', '30.4K', '28.1K',\n",
       "       '20.1K', '25.2K', '62.2K', '785', '14.9K', '42.8K', '2K', '9.2K',\n",
       "       '23.2K', '2.5K', '18.3K', '1.9K', '196.8K', '38.1K', '28K', '33',\n",
       "       '2.6K', '13.4K', '156K', '4K', '266K', '320', '300', '5.3K', '10K',\n",
       "       '22.8K', '100.8K', '374', '12.2K', '3.5K', '430', '2.8K', '444',\n",
       "       '610', '540', '810', '340', '700', '720', '460', '180', '347',\n",
       "       '470', '750', '240', '54', '410.4K', '1.4K', '34', '200', '160',\n",
       "       '2', '60', '7', '50', '91', '20', '30', '25', '102', '261', '10',\n",
       "       '< 1'], dtype=object)"
      ]
     },
     "execution_count": 178,
     "metadata": {},
     "output_type": "execute_result"
    }
   ],
   "source": [
    "df['land_area_sq_km'].unique()"
   ]
  },
  {
   "cell_type": "code",
   "execution_count": null,
   "metadata": {},
   "outputs": [],
   "source": [
    "df=pd.read_csv(r\"data/2023_population.csv\")"
   ]
  },
  {
   "cell_type": "code",
   "execution_count": 196,
   "metadata": {},
   "outputs": [
    {
     "ename": "TypeError",
     "evalue": "argument of type 'float' is not iterable",
     "output_type": "error",
     "traceback": [
      "\u001b[1;31m---------------------------------------------------------------------------\u001b[0m",
      "\u001b[1;31mTypeError\u001b[0m                                 Traceback (most recent call last)",
      "\u001b[1;32mc:\\Users\\ag923\\Downloads\\mystreamlitapp\\analysis.ipynb Cell 21\u001b[0m line \u001b[0;36m1\n\u001b[0;32m      <a href='vscode-notebook-cell:/c%3A/Users/ag923/Downloads/mystreamlitapp/analysis.ipynb#X25sZmlsZQ%3D%3D?line=8'>9</a>\u001b[0m         \u001b[39mreturn\u001b[39;00m \u001b[39mfloat\u001b[39m(value)\n\u001b[0;32m     <a href='vscode-notebook-cell:/c%3A/Users/ag923/Downloads/mystreamlitapp/analysis.ipynb#X25sZmlsZQ%3D%3D?line=10'>11</a>\u001b[0m \u001b[39m# Apply the custom function to the 'Column1'\u001b[39;00m\n\u001b[1;32m---> <a href='vscode-notebook-cell:/c%3A/Users/ag923/Downloads/mystreamlitapp/analysis.ipynb#X25sZmlsZQ%3D%3D?line=11'>12</a>\u001b[0m df[\u001b[39m'\u001b[39m\u001b[39mland_area_sq_km\u001b[39m\u001b[39m'\u001b[39m] \u001b[39m=\u001b[39m df[\u001b[39m'\u001b[39;49m\u001b[39mland_area_sq_km\u001b[39;49m\u001b[39m'\u001b[39;49m]\u001b[39m.\u001b[39;49mapply(convert_k_to_numeric)\n\u001b[0;32m     <a href='vscode-notebook-cell:/c%3A/Users/ag923/Downloads/mystreamlitapp/analysis.ipynb#X25sZmlsZQ%3D%3D?line=13'>14</a>\u001b[0m \u001b[39m# Print the DataFrame with numeric values\u001b[39;00m\n\u001b[0;32m     <a href='vscode-notebook-cell:/c%3A/Users/ag923/Downloads/mystreamlitapp/analysis.ipynb#X25sZmlsZQ%3D%3D?line=14'>15</a>\u001b[0m \u001b[39mprint\u001b[39m(df)\n",
      "File \u001b[1;32mc:\\Users\\ag923\\miniconda3\\Lib\\site-packages\\pandas\\core\\series.py:4760\u001b[0m, in \u001b[0;36mSeries.apply\u001b[1;34m(self, func, convert_dtype, args, by_row, **kwargs)\u001b[0m\n\u001b[0;32m   4625\u001b[0m \u001b[39mdef\u001b[39;00m \u001b[39mapply\u001b[39m(\n\u001b[0;32m   4626\u001b[0m     \u001b[39mself\u001b[39m,\n\u001b[0;32m   4627\u001b[0m     func: AggFuncType,\n\u001b[1;32m   (...)\u001b[0m\n\u001b[0;32m   4632\u001b[0m     \u001b[39m*\u001b[39m\u001b[39m*\u001b[39mkwargs,\n\u001b[0;32m   4633\u001b[0m ) \u001b[39m-\u001b[39m\u001b[39m>\u001b[39m DataFrame \u001b[39m|\u001b[39m Series:\n\u001b[0;32m   4634\u001b[0m \u001b[39m    \u001b[39m\u001b[39m\"\"\"\u001b[39;00m\n\u001b[0;32m   4635\u001b[0m \u001b[39m    Invoke function on values of Series.\u001b[39;00m\n\u001b[0;32m   4636\u001b[0m \n\u001b[1;32m   (...)\u001b[0m\n\u001b[0;32m   4751\u001b[0m \u001b[39m    dtype: float64\u001b[39;00m\n\u001b[0;32m   4752\u001b[0m \u001b[39m    \"\"\"\u001b[39;00m\n\u001b[0;32m   4753\u001b[0m     \u001b[39mreturn\u001b[39;00m SeriesApply(\n\u001b[0;32m   4754\u001b[0m         \u001b[39mself\u001b[39;49m,\n\u001b[0;32m   4755\u001b[0m         func,\n\u001b[0;32m   4756\u001b[0m         convert_dtype\u001b[39m=\u001b[39;49mconvert_dtype,\n\u001b[0;32m   4757\u001b[0m         by_row\u001b[39m=\u001b[39;49mby_row,\n\u001b[0;32m   4758\u001b[0m         args\u001b[39m=\u001b[39;49margs,\n\u001b[0;32m   4759\u001b[0m         kwargs\u001b[39m=\u001b[39;49mkwargs,\n\u001b[1;32m-> 4760\u001b[0m     )\u001b[39m.\u001b[39;49mapply()\n",
      "File \u001b[1;32mc:\\Users\\ag923\\miniconda3\\Lib\\site-packages\\pandas\\core\\apply.py:1207\u001b[0m, in \u001b[0;36mSeriesApply.apply\u001b[1;34m(self)\u001b[0m\n\u001b[0;32m   1204\u001b[0m     \u001b[39mreturn\u001b[39;00m \u001b[39mself\u001b[39m\u001b[39m.\u001b[39mapply_compat()\n\u001b[0;32m   1206\u001b[0m \u001b[39m# self.func is Callable\u001b[39;00m\n\u001b[1;32m-> 1207\u001b[0m \u001b[39mreturn\u001b[39;00m \u001b[39mself\u001b[39;49m\u001b[39m.\u001b[39;49mapply_standard()\n",
      "File \u001b[1;32mc:\\Users\\ag923\\miniconda3\\Lib\\site-packages\\pandas\\core\\apply.py:1287\u001b[0m, in \u001b[0;36mSeriesApply.apply_standard\u001b[1;34m(self)\u001b[0m\n\u001b[0;32m   1281\u001b[0m \u001b[39m# row-wise access\u001b[39;00m\n\u001b[0;32m   1282\u001b[0m \u001b[39m# apply doesn't have a `na_action` keyword and for backward compat reasons\u001b[39;00m\n\u001b[0;32m   1283\u001b[0m \u001b[39m# we need to give `na_action=\"ignore\"` for categorical data.\u001b[39;00m\n\u001b[0;32m   1284\u001b[0m \u001b[39m# TODO: remove the `na_action=\"ignore\"` when that default has been changed in\u001b[39;00m\n\u001b[0;32m   1285\u001b[0m \u001b[39m#  Categorical (GH51645).\u001b[39;00m\n\u001b[0;32m   1286\u001b[0m action \u001b[39m=\u001b[39m \u001b[39m\"\u001b[39m\u001b[39mignore\u001b[39m\u001b[39m\"\u001b[39m \u001b[39mif\u001b[39;00m \u001b[39misinstance\u001b[39m(obj\u001b[39m.\u001b[39mdtype, CategoricalDtype) \u001b[39melse\u001b[39;00m \u001b[39mNone\u001b[39;00m\n\u001b[1;32m-> 1287\u001b[0m mapped \u001b[39m=\u001b[39m obj\u001b[39m.\u001b[39;49m_map_values(\n\u001b[0;32m   1288\u001b[0m     mapper\u001b[39m=\u001b[39;49mcurried, na_action\u001b[39m=\u001b[39;49maction, convert\u001b[39m=\u001b[39;49m\u001b[39mself\u001b[39;49m\u001b[39m.\u001b[39;49mconvert_dtype\n\u001b[0;32m   1289\u001b[0m )\n\u001b[0;32m   1291\u001b[0m \u001b[39mif\u001b[39;00m \u001b[39mlen\u001b[39m(mapped) \u001b[39mand\u001b[39;00m \u001b[39misinstance\u001b[39m(mapped[\u001b[39m0\u001b[39m], ABCSeries):\n\u001b[0;32m   1292\u001b[0m     \u001b[39m# GH#43986 Need to do list(mapped) in order to get treated as nested\u001b[39;00m\n\u001b[0;32m   1293\u001b[0m     \u001b[39m#  See also GH#25959 regarding EA support\u001b[39;00m\n\u001b[0;32m   1294\u001b[0m     \u001b[39mreturn\u001b[39;00m obj\u001b[39m.\u001b[39m_constructor_expanddim(\u001b[39mlist\u001b[39m(mapped), index\u001b[39m=\u001b[39mobj\u001b[39m.\u001b[39mindex)\n",
      "File \u001b[1;32mc:\\Users\\ag923\\miniconda3\\Lib\\site-packages\\pandas\\core\\base.py:921\u001b[0m, in \u001b[0;36mIndexOpsMixin._map_values\u001b[1;34m(self, mapper, na_action, convert)\u001b[0m\n\u001b[0;32m    918\u001b[0m \u001b[39mif\u001b[39;00m \u001b[39misinstance\u001b[39m(arr, ExtensionArray):\n\u001b[0;32m    919\u001b[0m     \u001b[39mreturn\u001b[39;00m arr\u001b[39m.\u001b[39mmap(mapper, na_action\u001b[39m=\u001b[39mna_action)\n\u001b[1;32m--> 921\u001b[0m \u001b[39mreturn\u001b[39;00m algorithms\u001b[39m.\u001b[39;49mmap_array(arr, mapper, na_action\u001b[39m=\u001b[39;49mna_action, convert\u001b[39m=\u001b[39;49mconvert)\n",
      "File \u001b[1;32mc:\\Users\\ag923\\miniconda3\\Lib\\site-packages\\pandas\\core\\algorithms.py:1814\u001b[0m, in \u001b[0;36mmap_array\u001b[1;34m(arr, mapper, na_action, convert)\u001b[0m\n\u001b[0;32m   1812\u001b[0m values \u001b[39m=\u001b[39m arr\u001b[39m.\u001b[39mastype(\u001b[39mobject\u001b[39m, copy\u001b[39m=\u001b[39m\u001b[39mFalse\u001b[39;00m)\n\u001b[0;32m   1813\u001b[0m \u001b[39mif\u001b[39;00m na_action \u001b[39mis\u001b[39;00m \u001b[39mNone\u001b[39;00m:\n\u001b[1;32m-> 1814\u001b[0m     \u001b[39mreturn\u001b[39;00m lib\u001b[39m.\u001b[39;49mmap_infer(values, mapper, convert\u001b[39m=\u001b[39;49mconvert)\n\u001b[0;32m   1815\u001b[0m \u001b[39melse\u001b[39;00m:\n\u001b[0;32m   1816\u001b[0m     \u001b[39mreturn\u001b[39;00m lib\u001b[39m.\u001b[39mmap_infer_mask(\n\u001b[0;32m   1817\u001b[0m         values, mapper, mask\u001b[39m=\u001b[39misna(values)\u001b[39m.\u001b[39mview(np\u001b[39m.\u001b[39muint8), convert\u001b[39m=\u001b[39mconvert\n\u001b[0;32m   1818\u001b[0m     )\n",
      "File \u001b[1;32mlib.pyx:2920\u001b[0m, in \u001b[0;36mpandas._libs.lib.map_infer\u001b[1;34m()\u001b[0m\n",
      "\u001b[1;32mc:\\Users\\ag923\\Downloads\\mystreamlitapp\\analysis.ipynb Cell 21\u001b[0m line \u001b[0;36m2\n\u001b[0;32m      <a href='vscode-notebook-cell:/c%3A/Users/ag923/Downloads/mystreamlitapp/analysis.ipynb#X25sZmlsZQ%3D%3D?line=0'>1</a>\u001b[0m \u001b[39mdef\u001b[39;00m \u001b[39mconvert_k_to_numeric\u001b[39m(value):\n\u001b[1;32m----> <a href='vscode-notebook-cell:/c%3A/Users/ag923/Downloads/mystreamlitapp/analysis.ipynb#X25sZmlsZQ%3D%3D?line=1'>2</a>\u001b[0m     \u001b[39mif\u001b[39;00m \u001b[39m'\u001b[39;49m\u001b[39mK\u001b[39;49m\u001b[39m'\u001b[39;49m \u001b[39min\u001b[39;49;00m value:\n\u001b[0;32m      <a href='vscode-notebook-cell:/c%3A/Users/ag923/Downloads/mystreamlitapp/analysis.ipynb#X25sZmlsZQ%3D%3D?line=2'>3</a>\u001b[0m         \u001b[39mreturn\u001b[39;00m \u001b[39mfloat\u001b[39m(value\u001b[39m.\u001b[39mreplace(\u001b[39m'\u001b[39m\u001b[39mK\u001b[39m\u001b[39m'\u001b[39m, \u001b[39m'\u001b[39m\u001b[39m'\u001b[39m)) \u001b[39m*\u001b[39m \u001b[39m1000\u001b[39m\n\u001b[0;32m      <a href='vscode-notebook-cell:/c%3A/Users/ag923/Downloads/mystreamlitapp/analysis.ipynb#X25sZmlsZQ%3D%3D?line=3'>4</a>\u001b[0m     \u001b[39melif\u001b[39;00m \u001b[39m'\u001b[39m\u001b[39mM\u001b[39m\u001b[39m'\u001b[39m \u001b[39min\u001b[39;00m value:\n",
      "\u001b[1;31mTypeError\u001b[0m: argument of type 'float' is not iterable"
     ]
    }
   ],
   "source": [
    "def convert_k_to_numeric(value):\n",
    "    if 'K' in value:\n",
    "        return float(value.replace('K', '')) * 1000\n",
    "    elif 'M' in value:\n",
    "        return float(value.replace('M', '')) * 1000000\n",
    "    elif '<' in value:\n",
    "        return float(value.replace('<',''))\n",
    "    else:\n",
    "        return float(value)\n",
    "\n",
    "\n",
    "df['land_area_sq_km'] = df['land_area_sq_km'].apply(convert_k_to_numeric)\n"
   ]
  }
 ],
 "metadata": {
  "kernelspec": {
   "display_name": "base",
   "language": "python",
   "name": "python3"
  },
  "language_info": {
   "codemirror_mode": {
    "name": "ipython",
    "version": 3
   },
   "file_extension": ".py",
   "mimetype": "text/x-python",
   "name": "python",
   "nbconvert_exporter": "python",
   "pygments_lexer": "ipython3",
   "version": "3.11.4"
  }
 },
 "nbformat": 4,
 "nbformat_minor": 2
}
